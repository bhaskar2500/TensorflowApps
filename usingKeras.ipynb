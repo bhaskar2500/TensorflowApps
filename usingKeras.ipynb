{
 "cells": [
  {
   "cell_type": "code",
   "execution_count": 181,
   "metadata": {},
   "outputs": [
    {
     "name": "stdout",
     "output_type": "stream",
     "text": [
      "Extracting MNIST_data/train-images-idx3-ubyte.gz\n",
      "Extracting MNIST_data/train-labels-idx1-ubyte.gz\n",
      "Extracting MNIST_data/t10k-images-idx3-ubyte.gz\n",
      "Extracting MNIST_data/t10k-labels-idx1-ubyte.gz\n"
     ]
    }
   ],
   "source": [
    "from tensorflow.examples.tutorials.mnist import input_data\n",
    "from keras.models import Sequential\n",
    "from keras.layers import Activation,Dense\n",
    "mnist = input_data.read_data_sets(\"MNIST_data/\", one_hot=True)\n",
    "x_train,y_train,x_test,y_test=mnist.train.images,mnist.train.labels,mnist.test.images,mnist.test.labels,"
   ]
  },
  {
   "cell_type": "code",
   "execution_count": 182,
   "metadata": {},
   "outputs": [],
   "source": [
    "\n",
    "model = Sequential([\n",
    "    Dense(40, input_shape=(784,)),\n",
    "    Activation('relu'),\n",
    "    Dense(100),\n",
    "    Activation('relu'),\n",
    "    Dense(10),\n",
    "    Activation('softmax'),\n",
    "])\n",
    "\n",
    "model.compile(optimizer='rmsprop',\n",
    "              loss='categorical_crossentropy',\n",
    "              metrics=['accuracy'])\n"
   ]
  },
  {
   "cell_type": "code",
   "execution_count": 200,
   "metadata": {},
   "outputs": [
    {
     "name": "stdout",
     "output_type": "stream",
     "text": [
      "Epoch 1/20\n",
      "55000/55000 [==============================] - 4s - loss: 0.0190 - acc: 0.9948     \n",
      "Epoch 2/20\n",
      "55000/55000 [==============================] - 3s - loss: 0.0183 - acc: 0.9955     \n",
      "Epoch 3/20\n",
      "55000/55000 [==============================] - 3s - loss: 0.0166 - acc: 0.9959     \n",
      "Epoch 4/20\n",
      "55000/55000 [==============================] - 3s - loss: 0.0163 - acc: 0.9961     \n",
      "Epoch 5/20\n",
      "55000/55000 [==============================] - 3s - loss: 0.0159 - acc: 0.9961     \n",
      "Epoch 6/20\n",
      "55000/55000 [==============================] - 3s - loss: 0.0157 - acc: 0.9964     \n",
      "Epoch 7/20\n",
      "55000/55000 [==============================] - 3s - loss: 0.0142 - acc: 0.9967     \n",
      "Epoch 8/20\n",
      "55000/55000 [==============================] - 3s - loss: 0.0135 - acc: 0.9966     \n",
      "Epoch 9/20\n",
      "55000/55000 [==============================] - 3s - loss: 0.0162 - acc: 0.9964     \n",
      "Epoch 10/20\n",
      "55000/55000 [==============================] - 3s - loss: 0.0145 - acc: 0.9967     -\n",
      "Epoch 11/20\n",
      "55000/55000 [==============================] - 3s - loss: 0.0122 - acc: 0.9971     \n",
      "Epoch 12/20\n",
      "55000/55000 [==============================] - 3s - loss: 0.0143 - acc: 0.9967     \n",
      "Epoch 13/20\n",
      "55000/55000 [==============================] - 3s - loss: 0.0111 - acc: 0.9974     \n",
      "Epoch 14/20\n",
      "55000/55000 [==============================] - 3s - loss: 0.0124 - acc: 0.9967     \n",
      "Epoch 15/20\n",
      "55000/55000 [==============================] - 4s - loss: 0.0112 - acc: 0.9971     \n",
      "Epoch 16/20\n",
      "55000/55000 [==============================] - 3s - loss: 0.0122 - acc: 0.9973     \n",
      "Epoch 17/20\n",
      "55000/55000 [==============================] - 3s - loss: 0.0114 - acc: 0.9976     \n",
      "Epoch 18/20\n",
      "55000/55000 [==============================] - 3s - loss: 0.0112 - acc: 0.9976     \n",
      "Epoch 19/20\n",
      "55000/55000 [==============================] - 3s - loss: 0.0112 - acc: 0.9976     \n",
      "Epoch 20/20\n",
      "55000/55000 [==============================] - 3s - loss: 0.0106 - acc: 0.9976     \n"
     ]
    },
    {
     "data": {
      "text/plain": [
       "<keras.callbacks.History at 0x1000ab00>"
      ]
     },
     "execution_count": 200,
     "metadata": {},
     "output_type": "execute_result"
    }
   ],
   "source": [
    "model.fit(x_train,y_train,epochs=20)"
   ]
  },
  {
   "cell_type": "code",
   "execution_count": 212,
   "metadata": {},
   "outputs": [
    {
     "name": "stdout",
     "output_type": "stream",
     "text": [
      " 9560/10000 [===========================>..] - ETA: 0s"
     ]
    },
    {
     "data": {
      "text/plain": [
       "[0.27042740794082726, 0.96930000543594363]"
      ]
     },
     "execution_count": 212,
     "metadata": {},
     "output_type": "execute_result"
    }
   ],
   "source": [
    "model.evaluate(x_test,y_test,batch_size=40)\n"
   ]
  },
  {
   "cell_type": "code",
   "execution_count": 213,
   "metadata": {},
   "outputs": [],
   "source": [
    "x = cv2.imread ('ImageResize8.jpg')\n",
    "img=model.predict(np.reshape(x[:,:,0],(1,784)))"
   ]
  },
  {
   "cell_type": "code",
   "execution_count": 214,
   "metadata": {},
   "outputs": [
    {
     "data": {
      "text/plain": [
       "array([[0, 1, 3, 4, 5, 6, 7, 8, 9, 2]], dtype=int64)"
      ]
     },
     "execution_count": 214,
     "metadata": {},
     "output_type": "execute_result"
    }
   ],
   "source": [
    "img.argsort(axis=1)\n"
   ]
  },
  {
   "cell_type": "code",
   "execution_count": null,
   "metadata": {
    "collapsed": true
   },
   "outputs": [],
   "source": []
  },
  {
   "cell_type": "code",
   "execution_count": null,
   "metadata": {
    "collapsed": true
   },
   "outputs": [],
   "source": []
  },
  {
   "cell_type": "code",
   "execution_count": null,
   "metadata": {
    "collapsed": true
   },
   "outputs": [],
   "source": []
  },
  {
   "cell_type": "code",
   "execution_count": null,
   "metadata": {
    "collapsed": true
   },
   "outputs": [],
   "source": []
  }
 ],
 "metadata": {
  "kernelspec": {
   "display_name": "Python 3",
   "language": "python",
   "name": "python3"
  },
  "language_info": {
   "codemirror_mode": {
    "name": "ipython",
    "version": 3
   },
   "file_extension": ".py",
   "mimetype": "text/x-python",
   "name": "python",
   "nbconvert_exporter": "python",
   "pygments_lexer": "ipython3",
   "version": "3.5.0"
  }
 },
 "nbformat": 4,
 "nbformat_minor": 2
}
