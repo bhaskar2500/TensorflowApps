{
 "cells": [
  {
   "cell_type": "code",
   "execution_count": 76,
   "metadata": {
    "collapsed": true
   },
   "outputs": [],
   "source": [
    "from keras.applications.imagenet_utils import _obtain_input_shape\n",
    "from keras import backend as K\n",
    "from keras.layers import Input, Convolution2D, SeparableConvolution2D, GlobalAveragePooling2D ,\\\n",
    "                         Dense, Activation, BatchNormalization\n",
    "from keras.models import Model\n",
    "from keras.engine.topology import get_source_inputs\n",
    "from keras.utils import get_file\n",
    "from keras.utils import layer_utils\n",
    "import matplotlib.pyplot as  plt\n",
    "from keras.preprocessing.image import ImageDataGenerator"
   ]
  },
  {
   "cell_type": "code",
   "execution_count": 23,
   "metadata": {
    "collapsed": true
   },
   "outputs": [],
   "source": [
    "def DeepDog(input_tensor=None, input_shape=None, alpha=1, classes=2):\n",
    "\n",
    "    input_shape = _obtain_input_shape(input_shape,\n",
    "                                      default_size=224,\n",
    "                                      min_size=48,\n",
    "                                      data_format=K.image_data_format(),\n",
    "                                     require_flatten=True)\n",
    "\n",
    "    if input_tensor is None:\n",
    "        img_input = Input(shape=input_shape)\n",
    "    else:\n",
    "        if not K.is_keras_tensor(input_tensor):\n",
    "            img_input = Input(tensor=input_tensor, shape=input_shape)\n",
    "        else:\n",
    "            img_input = input_tensor\n",
    "\n",
    "    x = Convolution2D(int(32*alpha), (3, 3), strides=(2, 2), padding='same')(img_input)\n",
    "    x = BatchNormalization()(x)\n",
    "    x = Activation('elu')(x)\n",
    "\n",
    "    x = SeparableConvolution2D(int(32*alpha), (3, 3), strides=(1, 1), padding='same')(x)\n",
    "    x = BatchNormalization()(x)\n",
    "    x = Activation('elu')(x)\n",
    "\n",
    "    x = SeparableConvolution2D(int(64 * alpha), (3, 3), strides=(2, 2), padding='same')(x)\n",
    "    x = BatchNormalization()(x)\n",
    "    x = Activation('elu')(x)\n",
    "\n",
    "    x = SeparableConvolution2D(int(128 * alpha), (3, 3), strides=(1, 1), padding='same')(x)\n",
    "    x = BatchNormalization()(x)\n",
    "    x = Activation('elu')(x)\n",
    "\n",
    "    x = SeparableConvolution2D(int(128 * alpha), (3, 3), strides=(2, 2), padding='same')(x)\n",
    "    x = BatchNormalization()(x)\n",
    "    x = Activation('elu')(x)\n",
    "\n",
    "    x = SeparableConvolution2D(int(256 * alpha), (3, 3), strides=(1, 1), padding='same')(x)\n",
    "    x = BatchNormalization()(x)\n",
    "    x = Activation('elu')(x)\n",
    "\n",
    "    x = SeparableConvolution2D(int(256 * alpha), (3, 3), strides=(2, 2), padding='same')(x)\n",
    "    x = BatchNormalization()(x)\n",
    "    x = Activation('elu')(x)\n",
    "\n",
    "    for _ in range(5):\n",
    "        x = SeparableConvolution2D(int(512 * alpha), (3, 3), strides=(1, 1), padding='same')(x)\n",
    "        x = BatchNormalization()(x)\n",
    "        x = Activation('elu')(x)\n",
    "\n",
    "    x = SeparableConvolution2D(int(512 * alpha), (3, 3), strides=(2, 2), padding='same')(x)\n",
    "    x = BatchNormalization()(x)\n",
    "    x = Activation('elu')(x)\n",
    "\n",
    "    x = SeparableConvolution2D(int(1024 * alpha), (3, 3), strides=(1, 1), padding='same')(x)\n",
    "    x = BatchNormalization()(x)\n",
    "    x = Activation('elu')(x)\n",
    "    \n",
    "    x = GlobalAveragePooling2D()(x)\n",
    "    out = Dense(1, activation='sigmoid')(x)\n",
    "\n",
    "    if input_tensor is not None:\n",
    "        inputs = get_source_inputs(input_tensor)\n",
    "    else:\n",
    "        inputs = img_input\n",
    "\n",
    "    model = Model(inputs, out, name='deepdog')\n",
    "\n",
    "    return model"
   ]
  },
  {
   "cell_type": "code",
   "execution_count": 24,
   "metadata": {
    "collapsed": true
   },
   "outputs": [],
   "source": [
    "model=DeepDog()"
   ]
  },
  {
   "cell_type": "code",
   "execution_count": 74,
   "metadata": {
    "collapsed": true
   },
   "outputs": [],
   "source": [
    "model.compile(optimizer='rmsprop',\n",
    "              loss='mse')"
   ]
  },
  {
   "cell_type": "code",
   "execution_count": null,
   "metadata": {
    "collapsed": true
   },
   "outputs": [],
   "source": []
  },
  {
   "cell_type": "code",
   "execution_count": 120,
   "metadata": {},
   "outputs": [
    {
     "name": "stdout",
     "output_type": "stream",
     "text": [
      "Found 210 images belonging to 1 classes.\n",
      "Found 169 images belonging to 1 classes.\n",
      "Found 2 images belonging to 2 classes.\n"
     ]
    }
   ],
   "source": [
    "batch_size = 16\n",
    "# this is the augmentation configuration we will use for training\n",
    "train_datagen = ImageDataGenerator(\n",
    "        rescale=1./255,\n",
    "        shear_range=0.2,\n",
    "        zoom_range=0.2,\n",
    "        horizontal_flip=True)\n",
    "\n",
    "# this is the augmentation configuration we will use for testing:\n",
    "# only rescaling\n",
    "test_datagen = ImageDataGenerator(rescale=1./255)\n",
    "\n",
    "# this is a generator that will read pictures found in\n",
    "# subfolers of 'data/train', and indefinitely generate\n",
    "# batches of augmented image data\n",
    "train_generator = train_datagen.flow_from_directory(\n",
    "        'train/',#This is the target directory\\\n",
    "        target_size=(224, 224),  # all images will be resized to 150x150\n",
    "        batch_size=batch_size,\n",
    "        class_mode='binary')  # since we use binary_crossentropy loss, we need binary labels\n",
    "\n",
    "# this is a similar generator, for validation data\n",
    "validation_generator = test_datagen.flow_from_directory(\n",
    "        'validation/',\n",
    "        target_size=(224, 224),\n",
    "        batch_size=batch_size,\n",
    "        class_mode='binary')\n",
    "predict_generator = test_datagen.flow_from_directory(\n",
    "        'predict/',\n",
    "        target_size=(224, 224),)\n"
   ]
  },
  {
   "cell_type": "code",
   "execution_count": 112,
   "metadata": {},
   "outputs": [
    {
     "name": "stdout",
     "output_type": "stream",
     "text": [
      "Epoch 1/20\n",
      "14/13 [================================] - 97s 7s/step - loss: 0.0016 - val_loss: 0.0680\n",
      "Epoch 2/20\n",
      "14/13 [================================] - 95s 7s/step - loss: 7.3579e-04 - val_loss: 0.0499\n",
      "Epoch 3/20\n",
      "14/13 [================================] - 95s 7s/step - loss: 0.0015 - val_loss: 0.0309\n",
      "Epoch 4/20\n",
      "14/13 [================================] - 95s 7s/step - loss: 0.0237 - val_loss: 0.0212\n",
      "Epoch 5/20\n",
      "14/13 [================================] - 95s 7s/step - loss: 1.9613e-04 - val_loss: 0.0162\n",
      "Epoch 6/20\n",
      "14/13 [================================] - 95s 7s/step - loss: 1.3298e-04 - val_loss: 0.0118\n",
      "Epoch 7/20\n",
      "14/13 [================================] - 95s 7s/step - loss: 1.1849e-04 - val_loss: 0.0079\n",
      "Epoch 8/20\n",
      "14/13 [================================] - 95s 7s/step - loss: 8.2945e-05 - val_loss: 0.0048\n",
      "Epoch 9/20\n",
      "14/13 [================================] - 94s 7s/step - loss: 4.4906e-05 - val_loss: 0.0026\n",
      "Epoch 10/20\n",
      "14/13 [================================] - 94s 7s/step - loss: 2.3186e-05 - val_loss: 0.0014\n",
      "Epoch 11/20\n",
      "14/13 [================================] - 94s 7s/step - loss: 2.4651e-05 - val_loss: 5.5283e-04\n",
      "Epoch 12/20\n",
      "14/13 [================================] - 94s 7s/step - loss: 7.3924e-06 - val_loss: 2.5541e-04\n",
      "Epoch 13/20\n",
      "14/13 [================================] - 96s 7s/step - loss: 3.4497e-06 - val_loss: 9.3060e-05\n",
      "Epoch 14/20\n",
      "14/13 [================================] - 102s 7s/step - loss: 1.9089e-05 - val_loss: 1.0309e-05\n",
      "Epoch 15/20\n",
      "14/13 [================================] - 99s 7s/step - loss: 2.1895e-06 - val_loss: 8.9407e-06\n",
      "Epoch 16/20\n",
      "14/13 [================================] - 94s 7s/step - loss: 1.0067e-06 - val_loss: 4.9511e-06\n",
      "Epoch 17/20\n",
      "14/13 [================================] - 102s 7s/step - loss: 6.6398e-07 - val_loss: 1.8621e-06\n",
      "Epoch 18/20\n",
      "14/13 [================================] - 97s 7s/step - loss: 3.9608e-07 - val_loss: 1.7039e-06\n",
      "Epoch 19/20\n",
      "14/13 [================================] - 97s 7s/step - loss: 1.7522e-07 - val_loss: 1.1500e-06\n",
      "Epoch 20/20\n",
      "14/13 [================================] - 99s 7s/step - loss: 9.5675e-08 - val_loss: 5.6332e-07\n"
     ]
    },
    {
     "data": {
      "text/plain": [
       "<keras.callbacks.History at 0x27ebceb8>"
      ]
     },
     "execution_count": 112,
     "metadata": {},
     "output_type": "execute_result"
    }
   ],
   "source": [
    "batch_size = 16\n",
    "epochs=20\n",
    "model.fit_generator(\n",
    "        train_generator,\n",
    "        epochs=20,   \n",
    "        steps_per_epoch=210 // batch_size,\n",
    "        validation_data=validation_generator,\n",
    "        validation_steps=169 // batch_size)"
   ]
  },
  {
   "cell_type": "code",
   "execution_count": 121,
   "metadata": {},
   "outputs": [
    {
     "data": {
      "text/plain": [
       "array([[ 0.00075852],\n",
       "       [ 0.00076112]], dtype=float32)"
      ]
     },
     "execution_count": 121,
     "metadata": {},
     "output_type": "execute_result"
    }
   ],
   "source": [
    "model.predict_generator(generator=predict_generator,steps=1)"
   ]
  },
  {
   "cell_type": "code",
   "execution_count": null,
   "metadata": {
    "collapsed": true
   },
   "outputs": [],
   "source": [
    "model.save(\"DocumentKeras.h5\")"
   ]
  },
  {
   "cell_type": "code",
   "execution_count": null,
   "metadata": {
    "collapsed": true
   },
   "outputs": [],
   "source": []
  }
 ],
 "metadata": {
  "kernelspec": {
   "display_name": "Python 3",
   "language": "python",
   "name": "python3"
  },
  "language_info": {
   "codemirror_mode": {
    "name": "ipython",
    "version": 3
   },
   "file_extension": ".py",
   "mimetype": "text/x-python",
   "name": "python",
   "nbconvert_exporter": "python",
   "pygments_lexer": "ipython3",
   "version": "3.5.0"
  }
 },
 "nbformat": 4,
 "nbformat_minor": 2
}
