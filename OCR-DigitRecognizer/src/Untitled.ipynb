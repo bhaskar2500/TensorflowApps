{
 "cells": [
  {
   "cell_type": "code",
   "execution_count": 23,
   "metadata": {
    "collapsed": false,
    "deletable": true,
    "editable": true
   },
   "outputs": [],
   "source": [
    "import tensorflow as tf\n",
    "import pygame\n",
    "import scipy.io as sio\n",
    "from scipy import misc\n",
    "import numpy as np"
   ]
  },
  {
   "cell_type": "code",
   "execution_count": 24,
   "metadata": {
    "collapsed": true,
    "deletable": true,
    "editable": true
   },
   "outputs": [],
   "source": [
    "def weights(shape):\n",
    "    return tf.Variable(tf.random_normal(shape))\n",
    "\n",
    "def bias(shape):\n",
    "    return tf.Variable(tf.random_normal(shape))"
   ]
  },
  {
   "cell_type": "code",
   "execution_count": 52,
   "metadata": {
    "collapsed": false,
    "deletable": true,
    "editable": true
   },
   "outputs": [],
   "source": [
    "\n",
    "def neural_network_model(data):\n",
    "    #input data * weight) + biases\n",
    "    total_nodes_hl1=256\n",
    "    total_nodes_hl2=256\n",
    "    total_classes=10\n",
    "    hidden_layer_1 = {'weights':weights([900,total_nodes_hl1]),'biases':bias([total_nodes_hl1]) }\n",
    "    hidden_layer2 ={'weights':weights([total_nodes_hl1,total_nodes_hl2]),'biases':bias([total_nodes_hl2])}\n",
    "\n",
    "    output_layer = {'weights':weights([total_nodes_hl1,total_classes]),'biases':bias([total_classes])}\n",
    "\n",
    "    layer_1 = tf.add(tf.matmul(data,hidden_layer_1['weights']), hidden_layer_1['biases'])\n",
    "\t#rectified linear as threshold function\n",
    "    layer_1 = tf.nn.relu(layer_1)\n",
    "    output = tf.matmul(layer_1,output_layer['weights']) + output_layer['biases']\n",
    "    return output\n",
    "\n"
   ]
  },
  {
   "cell_type": "code",
   "execution_count": 88,
   "metadata": {
    "collapsed": true,
    "deletable": true,
    "editable": true
   },
   "outputs": [],
   "source": [
    "def convertToOneHot(trainArray):\n",
    "    a=np.array(trainArray,'int32')\n",
    "    d=tf.stack(a)\n",
    "    return d\n",
    "\n"
   ]
  },
  {
   "cell_type": "code",
   "execution_count": 93,
   "metadata": {
    "collapsed": false,
    "deletable": true,
    "editable": true
   },
   "outputs": [],
   "source": [
    "inputTheta = sio.loadmat('newX.mat')\n",
    "x=inputTheta['X']\n",
    "epoch_x = tf.placeholder('float32',[None,x.shape[1]])\n",
    "epoch_test_x = tf.placeholder('float32',[x.shape[1],None])\n",
    "epoch_y = tf.placeholder('float32',[None,10])\n",
    "y= np.array(sio.loadmat('newY.mat')['y'])\n",
    "xTrain,xTest,yTrain,yTest=splitData(x,y)\n",
    "print(xTest.shape"
   ]
  },
  {
   "cell_type": "code",
   "execution_count": 94,
   "metadata": {
    "collapsed": false,
    "deletable": true,
    "editable": true
   },
   "outputs": [],
   "source": [
    "def splitData(X, y):\n",
    "    \"\"\"Split sample data into training set (80%) and testing set (20%)\"\"\"\n",
    "\n",
    "    size1 =int( X.shape[0] * 0.8)\n",
    "    size2 = int(X.shape[0] * 0.2)\n",
    "    Xtrain = np.zeros((size1,X.shape[1]))\n",
    "    Xtest = np.zeros((size2+1,X.shape[1]))\n",
    "    ytrain = np.zeros((size1,1))\n",
    "    ytest = np.zeros((size2+1,1))\n",
    "\n",
    "    for i, v in enumerate(np.random.permutation(len(y))):\n",
    "        #print(i, y[v], len(X[v]))\n",
    "\n",
    "        try:\n",
    "            Xtrain[i] = X[v]\n",
    "            ytrain[i] = y[v]\n",
    "        except:\n",
    "            Xtest[i-size1] = X[v]\n",
    "            ytest[i-size1] = y[v]\n",
    "    return Xtrain, Xtest, ytrain, ytest"
   ]
  },
  {
   "cell_type": "code",
   "execution_count": null,
   "metadata": {
    "collapsed": false
   },
   "outputs": [],
   "source": []
  },
  {
   "cell_type": "code",
   "execution_count": 101,
   "metadata": {
    "collapsed": true,
    "deletable": true,
    "editable": true
   },
   "outputs": [],
   "source": [
    "def train_neural_net(xTrain):     \n",
    "    oneHotYTrain=tf.one_hot(convertToOneHot(yTrain),10,1.0,0.0)\n",
    "    oneHotYTest=tf.one_hot(convertToOneHot(yTest),10,1.0,0.0)\n",
    "    prediction = neural_network_model(epoch_x)    \n",
    "    oneHotYTrain=tf.reshape(oneHotYTrain,[2115,10])    \n",
    "    oneHotYTest=tf.reshape(oneHotYTest,[529,10])   \n",
    "\n",
    "    print(oneHotYTrain)\n",
    "    cost = tf.reduce_mean(tf.nn.softmax_cross_entropy_with_logits(logits=prediction,labels=epoch_y))\n",
    "\n",
    "    optimizer = tf.train.AdamOptimizer().minimize(cost)\n",
    "\n",
    "    with tf.Session() as sess:\n",
    "        sess.run(tf.initialize_all_variables())\n",
    "        hm_epochs = 15\n",
    "\n",
    "        for epoch in range(hm_epochs):\n",
    "            epoch_loss = 0\n",
    "            for _ in range(int(y.shape[0]/100)):\n",
    "\n",
    "                _, c = sess.run([optimizer, cost], feed_dict= {epoch_x:xTrain, epoch_y:oneHotYTrain.eval()})\n",
    "                epoch_loss += c\n",
    "            print('Epoch', epoch, 'UNDERSCORE', _,'loss:',epoch_loss)\n",
    "        print(prediction.get_shape())\n",
    "        print(oneHotYTrain.get_shape())\n",
    "        \n",
    "\n",
    "        correcct = tf.equal(tf.argmax(prediction,1),tf.argmax(epoch_y,1))\n",
    "        \n",
    "        accuracy = tf.reduce_mean(tf.cast(correcct,'float'))\n",
    "        print(accuracy)\n",
    "        print('Accuracy:', accuracy.eval({epoch_x:xTest,epoch_y:oneHotYTest.eval()}))\n",
    "        print(xTest.shape,'-----',oneHotYTest.get_shape(),'--------',prediction,'=====0',yTest.shape)\n",
    "        prediction=tf.argmax(prediction,1)\n",
    "        final_result=prediction.eval({epoch_test:xTest})\n",
    "        print (prediction.eval({epoch_test_x:xTest}))\n",
    "        # classification =sess.run(prediction)\n",
    "        print(yTest.transpose())\n",
    "        print(tf.reduce_mean(tf.cast(tf.equal(yTest,final_result).eval(),'float')).eval())"
   ]
  },
  {
   "cell_type": "code",
   "execution_count": 102,
   "metadata": {
    "collapsed": false,
    "deletable": true,
    "editable": true
   },
   "outputs": [
    {
     "name": "stdout",
     "output_type": "stream",
     "text": [
      "Tensor(\"Reshape_100:0\", shape=(2115, 10), dtype=float32)\n",
      "WARNING:tensorflow:From <ipython-input-101-e0bf75782971>:14: initialize_all_variables (from tensorflow.python.ops.variables) is deprecated and will be removed after 2017-03-02.\n",
      "Instructions for updating:\n",
      "Use `tf.global_variables_initializer` instead.\n",
      "Epoch 0 UNDERSCORE None loss: 1873.56634521\n",
      "Epoch 1 UNDERSCORE None loss: 566.19137001\n",
      "Epoch 2 UNDERSCORE None loss: 224.31885004\n",
      "Epoch 3 UNDERSCORE None loss: 107.292384624\n",
      "Epoch 4 UNDERSCORE None loss: 53.964746356\n",
      "Epoch 5 UNDERSCORE None loss: 26.4534141421\n",
      "Epoch 6 UNDERSCORE None loss: 12.2565356195\n",
      "Epoch 7 UNDERSCORE None loss: 5.35604602098\n",
      "Epoch 8 UNDERSCORE None loss: 2.65198022872\n",
      "Epoch 9 UNDERSCORE None loss: 1.35606110841\n",
      "Epoch 10 UNDERSCORE None loss: 0.686357814819\n",
      "Epoch 11 UNDERSCORE None loss: 0.299015014432\n",
      "Epoch 12 UNDERSCORE None loss: 0.0934687543195\n",
      "Epoch 13 UNDERSCORE None loss: 0.0192611565581\n",
      "Epoch 14 UNDERSCORE None loss: 0.0128459086409\n",
      "(?, 10)\n",
      "(2115, 10)\n",
      "Tensor(\"Mean_47:0\", shape=(), dtype=float32)\n",
      "Accuracy: 0.795841\n",
      "(529, 900) ----- (529, 10) -------- Tensor(\"add_20:0\", shape=(?, 10), dtype=float32) =====0 (529, 1)\n"
     ]
    },
    {
     "ename": "NameError",
     "evalue": "name 'epoch_test' is not defined",
     "output_type": "error",
     "traceback": [
      "\u001b[0;31m---------------------------------------------------------------------------\u001b[0m",
      "\u001b[0;31mNameError\u001b[0m                                 Traceback (most recent call last)",
      "\u001b[0;32m<ipython-input-102-9473572efa64>\u001b[0m in \u001b[0;36m<module>\u001b[0;34m()\u001b[0m\n\u001b[1;32m      1\u001b[0m \u001b[1;32mif\u001b[0m \u001b[0m__name__\u001b[0m \u001b[1;33m==\u001b[0m \u001b[1;34m\"__main__\"\u001b[0m\u001b[1;33m:\u001b[0m\u001b[1;33m\u001b[0m\u001b[0m\n\u001b[0;32m----> 2\u001b[0;31m     \u001b[0mtrain_neural_net\u001b[0m\u001b[1;33m(\u001b[0m\u001b[0mxTrain\u001b[0m\u001b[1;33m)\u001b[0m\u001b[1;33m\u001b[0m\u001b[0m\n\u001b[0m",
      "\u001b[0;32m<ipython-input-101-e0bf75782971>\u001b[0m in \u001b[0;36mtrain_neural_net\u001b[0;34m(xTrain)\u001b[0m\n\u001b[1;32m     33\u001b[0m         \u001b[0mprint\u001b[0m\u001b[1;33m(\u001b[0m\u001b[0mxTest\u001b[0m\u001b[1;33m.\u001b[0m\u001b[0mshape\u001b[0m\u001b[1;33m,\u001b[0m\u001b[1;34m'-----'\u001b[0m\u001b[1;33m,\u001b[0m\u001b[0moneHotYTest\u001b[0m\u001b[1;33m.\u001b[0m\u001b[0mget_shape\u001b[0m\u001b[1;33m(\u001b[0m\u001b[1;33m)\u001b[0m\u001b[1;33m,\u001b[0m\u001b[1;34m'--------'\u001b[0m\u001b[1;33m,\u001b[0m\u001b[0mprediction\u001b[0m\u001b[1;33m,\u001b[0m\u001b[1;34m'=====0'\u001b[0m\u001b[1;33m,\u001b[0m\u001b[0myTest\u001b[0m\u001b[1;33m.\u001b[0m\u001b[0mshape\u001b[0m\u001b[1;33m)\u001b[0m\u001b[1;33m\u001b[0m\u001b[0m\n\u001b[1;32m     34\u001b[0m         \u001b[0mprediction\u001b[0m\u001b[1;33m=\u001b[0m\u001b[0mtf\u001b[0m\u001b[1;33m.\u001b[0m\u001b[0margmax\u001b[0m\u001b[1;33m(\u001b[0m\u001b[0mprediction\u001b[0m\u001b[1;33m,\u001b[0m\u001b[1;36m1\u001b[0m\u001b[1;33m)\u001b[0m\u001b[1;33m\u001b[0m\u001b[0m\n\u001b[0;32m---> 35\u001b[0;31m         \u001b[0mfinal_result\u001b[0m\u001b[1;33m=\u001b[0m\u001b[0mprediction\u001b[0m\u001b[1;33m.\u001b[0m\u001b[0meval\u001b[0m\u001b[1;33m(\u001b[0m\u001b[1;33m{\u001b[0m\u001b[0mepoch_test\u001b[0m\u001b[1;33m:\u001b[0m\u001b[0mxTest\u001b[0m\u001b[1;33m}\u001b[0m\u001b[1;33m)\u001b[0m\u001b[1;33m\u001b[0m\u001b[0m\n\u001b[0m\u001b[1;32m     36\u001b[0m         \u001b[0mprint\u001b[0m \u001b[1;33m(\u001b[0m\u001b[0mprediction\u001b[0m\u001b[1;33m.\u001b[0m\u001b[0meval\u001b[0m\u001b[1;33m(\u001b[0m\u001b[1;33m{\u001b[0m\u001b[0mepoch_test_x\u001b[0m\u001b[1;33m:\u001b[0m\u001b[0mxTest\u001b[0m\u001b[1;33m}\u001b[0m\u001b[1;33m)\u001b[0m\u001b[1;33m)\u001b[0m\u001b[1;33m\u001b[0m\u001b[0m\n\u001b[1;32m     37\u001b[0m         \u001b[1;31m# classification =sess.run(prediction)\u001b[0m\u001b[1;33m\u001b[0m\u001b[1;33m\u001b[0m\u001b[0m\n",
      "\u001b[0;31mNameError\u001b[0m: name 'epoch_test' is not defined"
     ]
    }
   ],
   "source": [
    "if __name__ == \"__main__\":\n",
    "    train_neural_net(xTrain)"
   ]
  },
  {
   "cell_type": "code",
   "execution_count": null,
   "metadata": {
    "collapsed": true,
    "deletable": true,
    "editable": true
   },
   "outputs": [],
   "source": [
    "def create_screen():\n",
    "    \"\"\"Main method. Draw interface\"\"\"\n",
    "    \n",
    "    global screen\n",
    "    pygame.init()\n",
    "    screen = pygame.display.set_mode((730, 450))\n",
    "    pygame.display.set_caption(\"Handwriting recognition\")\n",
    "    \n",
    "    background = pygame.Surface((360,360))\n",
    "    background.fill((255, 255, 255))\n",
    "    background2 = pygame.Surface((360,360))\n",
    "    background2.fill((255, 255, 255))\n",
    "    \n",
    "    clock = pygame.time.Clock()\n",
    "    keepGoing = True\n",
    "    lineStart = (0, 0)\n",
    "    drawColor = (255, 0, 0)\n",
    "    lineWidth = 15\n",
    "    \n",
    "    inputTheta = sio.loadmat('scaledTheta.mat')\n",
    "    theta = inputTheta['t']\n",
    "    num_hidden = 25\n",
    "    num_input = 900\n",
    "    num_lables = 10\n",
    "\n",
    "    Theta1 = np.reshape(theta[:num_hidden*(num_input+1)], (num_hidden,-1))\n",
    "    Theta2 = np.reshape(theta[num_hidden*(num_input+1):], (num_lables,-1))\n",
    "\n",
    "    pygame.display.update()\n",
    "    image = None\n",
    "            \n",
    "    while keepGoing:\n",
    "        \n",
    "        clock.tick(30)\n",
    "        for event in pygame.event.get():\n",
    "            if event.type == pygame.QUIT:\n",
    "                keepGoing = False\n",
    "            elif event.type == pygame.MOUSEMOTION:\n",
    "                lineEnd = pygame.mouse.get_pos()\n",
    "                if pygame.mouse.get_pressed() == (1, 0, 0):\n",
    "                    pygame.draw.line(background, drawColor, lineStart, lineEnd, lineWidth)\n",
    "                lineStart = lineEnd\n",
    "            elif event.type == pygame.MOUSEBUTTONUP:\n",
    "                screen.fill((0, 0, 0))\n",
    "                screen.blit(background2, (370, 0))\n",
    "                #w = threading.Thread(name='worker', target=worker)\n",
    "                image = calculateImage(background, screen, Theta1, Theta2, lineWidth)\n",
    "\n",
    "            elif event.type == pygame.KEYDOWN:\n",
    "                myData = (event, background, drawColor, lineWidth, keepGoing, screen, image)\n",
    "                myData = checkKeys(myData)\n",
    "                (event, background, drawColor, lineWidth, keepGoing) = myData\n",
    "        \n",
    "        \n",
    "        screen.blit(background, (0, 0))\n",
    "        pygame.display.flip()"
   ]
  },
  {
   "cell_type": "code",
   "execution_count": 65,
   "metadata": {
    "collapsed": true
   },
   "outputs": [],
   "source": [
    "def calculateImage(background, screen, Theta1, Theta2, lineWidth):\n",
    "    \"\"\"Crop and resize the input\"\"\"\n",
    "    \n",
    "    global changed\n",
    "    focusSurface = pygame.surfarray.array3d(background)\n",
    "    focus = abs(1-focusSurface/255)\n",
    "    focus = np.mean(focus, 2) \n",
    "    x = []\n",
    "    xaxis = np.sum(focus, axis=1)\n",
    "    for i, v in enumerate(xaxis):\n",
    "        if v > 0:\n",
    "            x.append(i)\n",
    "            break\n",
    "    for i, v in enumerate(xaxis[ : :-1]):\n",
    "        if v > 0:\n",
    "            x.append(len(xaxis)-i)\n",
    "            break\n",
    "    \n",
    "    y = []\n",
    "    yaxis = np.sum(focus, axis=0)\n",
    "    for i, v in enumerate(yaxis):\n",
    "        if v > 0:\n",
    "            y.append(i)\n",
    "            break\n",
    "    for i, v in enumerate(yaxis[ : :-1]):\n",
    "        if v > 0:\n",
    "            y.append(len(yaxis)-i)\n",
    "            break\n",
    "\n",
    "    try:\n",
    "        dx = x[1]-x[0]\n",
    "        dy = y[1]-y[0]\n",
    "        bound = focus.shape[0]      \n",
    "        if dx > dy:\n",
    "            d = dx-dy\n",
    "            y0t = y[0] - d//2\n",
    "            y1t = y[1] + d//2+d%2\n",
    "            if y0t < 0: y0t = y[0]; y1t = y[1] + d\n",
    "            if y1t > bound: y0t = y[0] - d; y1t = y[1]\n",
    "            y[0], y[1] = y0t, y1t\n",
    "        else:\n",
    "            d = dy-dx\n",
    "            x0t = x[0] - d//2\n",
    "            x1t = x[1] + d//2+d%2\n",
    "            if x0t < 0: x0t = x[0]; x1t = x[1] + d\n",
    "            if x1t > bound: x0t = x[0] - d; x1t = x[1]\n",
    "            x[0], x[1] = x0t, x1t \n",
    "        dx = x[1]-x[0]\n",
    "        dy = y[1]-y[0]\n",
    "        changed = True\n",
    "        crop_surf =  pygame.Surface((dx,dy))\n",
    "        crop_surf.blit(background,(0,0),(x[0],y[0],x[1],y[1]), special_flags=BLEND_RGBA_MAX)\n",
    "        scaledBackground = pygame.transform.smoothscale(crop_surf, (30, 30))\n",
    "            \n",
    "        image = pygame.surfarray.array3d(scaledBackground)\n",
    "        image = abs(1-image/253)\n",
    "        image = np.mean(image, 2) \n",
    "        image = np.matrix(image.ravel())\n",
    "        drawPixelated(image, screen)\n",
    "        (value, prob), (value2, prob2) = probabilty(Theta1,Theta2,image)\n",
    "        prob = round(prob,1)            \n",
    "        myLabel = showStats(lineWidth, value, prob)\n",
    "        (x,y) = screen.get_size()\n",
    "        screen.blit(myLabel, (17, y-90))\n",
    "        screen.blit(myLabelSmall, (20, y-38))\n",
    "    except:\n",
    "        image = np.zeros((30,30))\n",
    "\n",
    "    return image"
   ]
  },
  {
   "cell_type": "code",
   "execution_count": 66,
   "metadata": {
    "collapsed": true
   },
   "outputs": [],
   "source": [
    "def showStats(lineWidth, value, prob):\n",
    "    \"\"\" shows the current statistics \"\"\"\n",
    "    \n",
    "    myFont = pygame.font.SysFont(\"Verdana\", 50)\n",
    "    stats = \"Estimate: %s    P: %s\" % (value, prob)\n",
    "    statSurf = myFont.render(stats+\"%\", 1, ((255, 255, 255)))\n",
    "    return statSurf"
   ]
  },
  {
   "cell_type": "code",
   "execution_count": null,
   "metadata": {
    "collapsed": true
   },
   "outputs": [],
   "source": []
  }
 ],
 "metadata": {
  "kernelspec": {
   "display_name": "Python 3",
   "language": "python",
   "name": "python3"
  },
  "language_info": {
   "codemirror_mode": {
    "name": "ipython",
    "version": 3
   },
   "file_extension": ".py",
   "mimetype": "text/x-python",
   "name": "python",
   "nbconvert_exporter": "python",
   "pygments_lexer": "ipython3",
   "version": "3.5.2"
  }
 },
 "nbformat": 4,
 "nbformat_minor": 2
}
