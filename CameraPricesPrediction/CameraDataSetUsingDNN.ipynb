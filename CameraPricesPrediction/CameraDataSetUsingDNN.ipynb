{
 "cells": [
  {
   "cell_type": "code",
   "execution_count": 147,
   "metadata": {
    "collapsed": true
   },
   "outputs": [],
   "source": [
    "import tensorflow as tf\n",
    "import numpy as np\n",
    "import pandas as pd\n",
    "import itertools"
   ]
  },
  {
   "cell_type": "code",
   "execution_count": 167,
   "metadata": {},
   "outputs": [],
   "source": [
    "df=pd.read_csv(\"Camera.csv\",delimiter=\";\")\n",
    "df.columns = [c.replace(' ', '_') for c in df.columns]\n",
    "df.columns = [c.replace('.', '').replace('.','').replace('(','').replace(')','') for c in df.columns]\n",
    "df=df[df.columns.difference([\"Model\",])]"
   ]
  },
  {
   "cell_type": "code",
   "execution_count": 168,
   "metadata": {},
   "outputs": [],
   "source": [
    "Converted_Df =pd.DataFrame(np.nan_to_num(df[2:].values.astype(float)))"
   ]
  },
  {
   "cell_type": "code",
   "execution_count": 169,
   "metadata": {},
   "outputs": [],
   "source": [
    "Converted_Df.columns=df.columns"
   ]
  },
  {
   "cell_type": "code",
   "execution_count": 170,
   "metadata": {},
   "outputs": [
    {
     "data": {
      "text/plain": [
       "Index(['Dimensions', 'Effective_pixels', 'Low_resolution', 'Macro_focus_range',\n",
       "       'Max_resolution', 'Normal_focus_range', 'Price', 'Release_date',\n",
       "       'Storage_included', 'Weight_inc_batteries', 'Zoom_tele_T',\n",
       "       'Zoom_wide_W'],\n",
       "      dtype='object')"
      ]
     },
     "execution_count": 170,
     "metadata": {},
     "output_type": "execute_result"
    }
   ],
   "source": [
    "train=Converted_Df.sample(frac=0.8,random_state=200)\n",
    "test=Converted_Df.drop(train.index)\n",
    "train.columns"
   ]
  },
  {
   "cell_type": "code",
   "execution_count": 171,
   "metadata": {},
   "outputs": [],
   "source": [
    "FEATURES=Converted_Df.columns.values.tolist()"
   ]
  },
  {
   "cell_type": "code",
   "execution_count": 172,
   "metadata": {},
   "outputs": [
    {
     "data": {
      "text/plain": [
       "[_NumericColumn(key='Dimensions', shape=(1,), default_value=None, dtype=tf.float32, normalizer_fn=None),\n",
       " _NumericColumn(key='Effective_pixels', shape=(1,), default_value=None, dtype=tf.float32, normalizer_fn=None),\n",
       " _NumericColumn(key='Low_resolution', shape=(1,), default_value=None, dtype=tf.float32, normalizer_fn=None),\n",
       " _NumericColumn(key='Macro_focus_range', shape=(1,), default_value=None, dtype=tf.float32, normalizer_fn=None),\n",
       " _NumericColumn(key='Max_resolution', shape=(1,), default_value=None, dtype=tf.float32, normalizer_fn=None),\n",
       " _NumericColumn(key='Normal_focus_range', shape=(1,), default_value=None, dtype=tf.float32, normalizer_fn=None),\n",
       " _NumericColumn(key='Price', shape=(1,), default_value=None, dtype=tf.float32, normalizer_fn=None),\n",
       " _NumericColumn(key='Release_date', shape=(1,), default_value=None, dtype=tf.float32, normalizer_fn=None),\n",
       " _NumericColumn(key='Storage_included', shape=(1,), default_value=None, dtype=tf.float32, normalizer_fn=None),\n",
       " _NumericColumn(key='Weight_inc_batteries', shape=(1,), default_value=None, dtype=tf.float32, normalizer_fn=None),\n",
       " _NumericColumn(key='Zoom_tele_T', shape=(1,), default_value=None, dtype=tf.float32, normalizer_fn=None),\n",
       " _NumericColumn(key='Zoom_wide_W', shape=(1,), default_value=None, dtype=tf.float32, normalizer_fn=None)]"
      ]
     },
     "execution_count": 172,
     "metadata": {},
     "output_type": "execute_result"
    }
   ],
   "source": [
    "feature_cols = [tf.feature_column.numeric_column(k,dtype=tf.float32)  for k in FEATURES]\n",
    "feature_cols"
   ]
  },
  {
   "cell_type": "code",
   "execution_count": 200,
   "metadata": {},
   "outputs": [
    {
     "name": "stdout",
     "output_type": "stream",
     "text": [
      "INFO:tensorflow:Using default config.\n",
      "WARNING:tensorflow:Using temporary folder as model directory: C:\\Users\\bkaushal\\AppData\\Local\\Temp\\tmp120geb_x\n",
      "INFO:tensorflow:Using config: {'_session_config': None, '_keep_checkpoint_every_n_hours': 10000, '_evaluation_master': '', '_save_summary_steps': 100, '_keep_checkpoint_max': 5, '_num_ps_replicas': 0, '_cluster_spec': <tensorflow.python.training.server_lib.ClusterSpec object at 0x0000000011563FD0>, '_master': '', '_tf_random_seed': None, '_environment': 'local', '_save_checkpoints_steps': None, '_task_type': None, '_tf_config': gpu_options {\n",
      "  per_process_gpu_memory_fraction: 1\n",
      "}\n",
      ", '_model_dir': 'C:\\\\Users\\\\bkaushal\\\\AppData\\\\Local\\\\Temp\\\\tmp120geb_x', '_task_id': 0, '_save_checkpoints_secs': 600, '_num_worker_replicas': 0, '_is_chief': True}\n"
     ]
    }
   ],
   "source": [
    "regressor = tf.contrib.learn.DNNRegressor(hidden_units=[40,40],feature_columns=feature_cols)"
   ]
  },
  {
   "cell_type": "code",
   "execution_count": 201,
   "metadata": {
    "collapsed": true
   },
   "outputs": [],
   "source": [
    "def get_input_fn(train, num_epochs=None, shuffle=True):\n",
    "  return tf.estimator.inputs.pandas_input_fn(\n",
    "      x=train,\n",
    "      y = train.Price,\n",
    "      num_epochs=num_epochs,\n",
    "      shuffle=shuffle)"
   ]
  },
  {
   "cell_type": "code",
   "execution_count": 202,
   "metadata": {},
   "outputs": [
    {
     "name": "stdout",
     "output_type": "stream",
     "text": [
      "WARNING:tensorflow:From c:\\users\\bkaushal\\aiva\\stockprediction\\tensordemo\\lib\\site-packages\\tensorflow\\contrib\\learn\\python\\learn\\estimators\\head.py:625: scalar_summary (from tensorflow.python.ops.logging_ops) is deprecated and will be removed after 2016-11-30.\n",
      "Instructions for updating:\n",
      "Please switch to tf.summary.scalar. Note that tf.summary.scalar uses the node name instead of the tag. This means that TensorFlow will automatically de-duplicate summary names based on the scope they are created in. Also, passing a tensor or list of tags to a scalar summary op is no longer supported.\n",
      "INFO:tensorflow:Create CheckpointSaverHook.\n",
      "INFO:tensorflow:Saving checkpoints for 1 into C:\\Users\\bkaushal\\AppData\\Local\\Temp\\tmp120geb_x\\model.ckpt.\n",
      "INFO:tensorflow:loss = 485174.0, step = 1\n",
      "INFO:tensorflow:global_step/sec: 328\n",
      "INFO:tensorflow:loss = 1154.35, step = 101 (0.308 sec)\n",
      "INFO:tensorflow:global_step/sec: 294.235\n",
      "INFO:tensorflow:loss = 399.655, step = 201 (0.340 sec)\n",
      "INFO:tensorflow:global_step/sec: 319.617\n",
      "INFO:tensorflow:loss = 400.587, step = 301 (0.313 sec)\n",
      "INFO:tensorflow:global_step/sec: 306.871\n",
      "INFO:tensorflow:loss = 210.475, step = 401 (0.326 sec)\n",
      "INFO:tensorflow:global_step/sec: 292.515\n",
      "INFO:tensorflow:loss = 128.696, step = 501 (0.343 sec)\n",
      "INFO:tensorflow:global_step/sec: 302.236\n",
      "INFO:tensorflow:loss = 151.034, step = 601 (0.331 sec)\n",
      "INFO:tensorflow:global_step/sec: 288.3\n",
      "INFO:tensorflow:loss = 93.8159, step = 701 (0.347 sec)\n",
      "INFO:tensorflow:global_step/sec: 259.171\n",
      "INFO:tensorflow:loss = 95.7206, step = 801 (0.385 sec)\n",
      "INFO:tensorflow:global_step/sec: 254.555\n",
      "INFO:tensorflow:loss = 137.188, step = 901 (0.393 sec)\n",
      "INFO:tensorflow:global_step/sec: 303.151\n",
      "INFO:tensorflow:loss = 152.619, step = 1001 (0.333 sec)\n",
      "INFO:tensorflow:global_step/sec: 196.542\n",
      "INFO:tensorflow:loss = 175.898, step = 1101 (0.514 sec)\n",
      "INFO:tensorflow:global_step/sec: 243.406\n",
      "INFO:tensorflow:loss = 36.4934, step = 1201 (0.407 sec)\n",
      "INFO:tensorflow:global_step/sec: 165.083\n",
      "INFO:tensorflow:loss = 62.4301, step = 1301 (0.614 sec)\n",
      "INFO:tensorflow:global_step/sec: 285.829\n",
      "INFO:tensorflow:loss = 32.9692, step = 1401 (0.338 sec)\n",
      "INFO:tensorflow:global_step/sec: 203.747\n",
      "INFO:tensorflow:loss = 69.3246, step = 1501 (0.498 sec)\n",
      "INFO:tensorflow:global_step/sec: 204.163\n",
      "INFO:tensorflow:loss = 61.3621, step = 1601 (0.483 sec)\n",
      "INFO:tensorflow:global_step/sec: 329.079\n",
      "INFO:tensorflow:loss = 74.8765, step = 1701 (0.304 sec)\n",
      "INFO:tensorflow:global_step/sec: 329.079\n",
      "INFO:tensorflow:loss = 33.8501, step = 1801 (0.304 sec)\n",
      "INFO:tensorflow:global_step/sec: 336.835\n",
      "INFO:tensorflow:loss = 59.9733, step = 1901 (0.297 sec)\n",
      "INFO:tensorflow:global_step/sec: 333.467\n",
      "INFO:tensorflow:loss = 61.1243, step = 2001 (0.300 sec)\n",
      "INFO:tensorflow:global_step/sec: 310.683\n",
      "INFO:tensorflow:loss = 52.9738, step = 2101 (0.326 sec)\n",
      "INFO:tensorflow:global_step/sec: 266.064\n",
      "INFO:tensorflow:loss = 50.6057, step = 2201 (0.373 sec)\n",
      "INFO:tensorflow:global_step/sec: 270.379\n",
      "INFO:tensorflow:loss = 62.7262, step = 2301 (0.372 sec)\n",
      "INFO:tensorflow:global_step/sec: 316.582\n",
      "INFO:tensorflow:loss = 74.3378, step = 2401 (0.313 sec)\n",
      "INFO:tensorflow:global_step/sec: 331.258\n",
      "INFO:tensorflow:loss = 38.5918, step = 2501 (0.302 sec)\n",
      "INFO:tensorflow:global_step/sec: 326.928\n",
      "INFO:tensorflow:loss = 55.8431, step = 2601 (0.306 sec)\n",
      "INFO:tensorflow:global_step/sec: 305\n",
      "INFO:tensorflow:loss = 42.2663, step = 2701 (0.328 sec)\n",
      "INFO:tensorflow:global_step/sec: 302.236\n",
      "INFO:tensorflow:loss = 78.8833, step = 2801 (0.331 sec)\n",
      "INFO:tensorflow:global_step/sec: 315.584\n",
      "INFO:tensorflow:loss = 54.5877, step = 2901 (0.322 sec)\n",
      "INFO:tensorflow:global_step/sec: 298.627\n",
      "INFO:tensorflow:loss = 65.1927, step = 3001 (0.329 sec)\n",
      "INFO:tensorflow:global_step/sec: 282.599\n",
      "INFO:tensorflow:loss = 54.0204, step = 3101 (0.356 sec)\n",
      "INFO:tensorflow:global_step/sec: 271.848\n",
      "INFO:tensorflow:loss = 50.2586, step = 3201 (0.367 sec)\n",
      "INFO:tensorflow:global_step/sec: 313.605\n",
      "INFO:tensorflow:loss = 37.114, step = 3301 (0.319 sec)\n",
      "INFO:tensorflow:global_step/sec: 306.871\n",
      "INFO:tensorflow:loss = 45.2036, step = 3401 (0.329 sec)\n",
      "INFO:tensorflow:global_step/sec: 293.372\n",
      "INFO:tensorflow:loss = 55.8174, step = 3501 (0.348 sec)\n",
      "INFO:tensorflow:global_step/sec: 167.291\n",
      "INFO:tensorflow:loss = 30.0962, step = 3601 (0.590 sec)\n",
      "INFO:tensorflow:global_step/sec: 290.814\n",
      "INFO:tensorflow:loss = 19.4493, step = 3701 (0.343 sec)\n",
      "INFO:tensorflow:global_step/sec: 288.3\n",
      "INFO:tensorflow:loss = 25.7949, step = 3801 (0.346 sec)\n",
      "INFO:tensorflow:global_step/sec: 293.372\n",
      "INFO:tensorflow:loss = 49.2905, step = 3901 (0.343 sec)\n",
      "INFO:tensorflow:global_step/sec: 246.404\n",
      "INFO:tensorflow:loss = 47.0938, step = 4001 (0.404 sec)\n",
      "INFO:tensorflow:global_step/sec: 306.871\n",
      "INFO:tensorflow:loss = 28.0653, step = 4101 (0.327 sec)\n",
      "INFO:tensorflow:global_step/sec: 299.521\n",
      "INFO:tensorflow:loss = 38.2435, step = 4201 (0.333 sec)\n",
      "INFO:tensorflow:global_step/sec: 266.064\n",
      "INFO:tensorflow:loss = 24.6968, step = 4301 (0.374 sec)\n",
      "INFO:tensorflow:global_step/sec: 317.587\n",
      "INFO:tensorflow:loss = 53.129, step = 4401 (0.317 sec)\n",
      "INFO:tensorflow:global_step/sec: 296.855\n",
      "INFO:tensorflow:loss = 38.9391, step = 4501 (0.337 sec)\n",
      "INFO:tensorflow:global_step/sec: 339.119\n",
      "INFO:tensorflow:loss = 30.6883, step = 4601 (0.295 sec)\n",
      "INFO:tensorflow:global_step/sec: 328\n",
      "INFO:tensorflow:loss = 23.0983, step = 4701 (0.306 sec)\n",
      "INFO:tensorflow:global_step/sec: 300.421\n",
      "INFO:tensorflow:loss = 37.6863, step = 4801 (0.335 sec)\n",
      "INFO:tensorflow:global_step/sec: 307.815\n",
      "INFO:tensorflow:loss = 27.1327, step = 4901 (0.322 sec)\n",
      "INFO:tensorflow:Saving checkpoints for 5000 into C:\\Users\\bkaushal\\AppData\\Local\\Temp\\tmp120geb_x\\model.ckpt.\n",
      "INFO:tensorflow:Loss for final step: 33.2025.\n"
     ]
    },
    {
     "data": {
      "text/plain": [
       "DNNRegressor(params={'optimizer': None, 'head': <tensorflow.contrib.learn.python.learn.estimators.head._RegressionHead object at 0x000000001169C5C0>, 'feature_columns': (_NumericColumn(key='Dimensions', shape=(1,), default_value=None, dtype=tf.float32, normalizer_fn=None), _NumericColumn(key='Effective_pixels', shape=(1,), default_value=None, dtype=tf.float32, normalizer_fn=None), _NumericColumn(key='Low_resolution', shape=(1,), default_value=None, dtype=tf.float32, normalizer_fn=None), _NumericColumn(key='Macro_focus_range', shape=(1,), default_value=None, dtype=tf.float32, normalizer_fn=None), _NumericColumn(key='Max_resolution', shape=(1,), default_value=None, dtype=tf.float32, normalizer_fn=None), _NumericColumn(key='Normal_focus_range', shape=(1,), default_value=None, dtype=tf.float32, normalizer_fn=None), _NumericColumn(key='Price', shape=(1,), default_value=None, dtype=tf.float32, normalizer_fn=None), _NumericColumn(key='Release_date', shape=(1,), default_value=None, dtype=tf.float32, normalizer_fn=None), _NumericColumn(key='Storage_included', shape=(1,), default_value=None, dtype=tf.float32, normalizer_fn=None), _NumericColumn(key='Weight_inc_batteries', shape=(1,), default_value=None, dtype=tf.float32, normalizer_fn=None), _NumericColumn(key='Zoom_tele_T', shape=(1,), default_value=None, dtype=tf.float32, normalizer_fn=None), _NumericColumn(key='Zoom_wide_W', shape=(1,), default_value=None, dtype=tf.float32, normalizer_fn=None)), 'embedding_lr_multipliers': None, 'input_layer_min_slice_size': None, 'gradient_clip_norm': None, 'hidden_units': [40, 40], 'activation_fn': <function relu at 0x000000000719E400>, 'dropout': None})"
      ]
     },
     "execution_count": 202,
     "metadata": {},
     "output_type": "execute_result"
    }
   ],
   "source": [
    "regressor.fit(input_fn=get_input_fn(train),steps=5000,)\n",
    "\n"
   ]
  },
  {
   "cell_type": "code",
   "execution_count": 195,
   "metadata": {},
   "outputs": [
    {
     "name": "stdout",
     "output_type": "stream",
     "text": [
      "WARNING:tensorflow:From c:\\users\\bkaushal\\aiva\\stockprediction\\tensordemo\\lib\\site-packages\\tensorflow\\contrib\\learn\\python\\learn\\estimators\\head.py:625: scalar_summary (from tensorflow.python.ops.logging_ops) is deprecated and will be removed after 2016-11-30.\n",
      "Instructions for updating:\n",
      "Please switch to tf.summary.scalar. Note that tf.summary.scalar uses the node name instead of the tag. This means that TensorFlow will automatically de-duplicate summary names based on the scope they are created in. Also, passing a tensor or list of tags to a scalar summary op is no longer supported.\n",
      "INFO:tensorflow:Starting evaluation at 2017-08-23-13:23:19\n",
      "INFO:tensorflow:Restoring parameters from C:\\Users\\bkaushal\\AppData\\Local\\Temp\\tmp0e4z01tm\\model.ckpt-5000\n",
      "INFO:tensorflow:Finished evaluation at 2017-08-23-13:23:19\n",
      "INFO:tensorflow:Saving dict for global step 5000: global_step = 5000, loss = 238.708\n"
     ]
    }
   ],
   "source": [
    "ev = regressor.evaluate(\n",
    "    input_fn=get_input_fn(test, num_epochs=2, shuffle=False))"
   ]
  },
  {
   "cell_type": "code",
   "execution_count": 196,
   "metadata": {},
   "outputs": [
    {
     "name": "stdout",
     "output_type": "stream",
     "text": [
      "Loss: 238.707855\n"
     ]
    }
   ],
   "source": [
    "loss_score = ev[\"loss\"]\n",
    "print(\"Loss: {0:f}\".format(loss_score))\n",
    "\n",
    "predict_df=pd.DataFrame([2002,1600.0,800.0,1.0,38.0,38.0,40.0,20.0,8.0,180.0,86.0,0.0]).T\n",
    "predict_df.columns=df.columns\n"
   ]
  },
  {
   "cell_type": "code",
   "execution_count": 197,
   "metadata": {},
   "outputs": [
    {
     "name": "stdout",
     "output_type": "stream",
     "text": [
      "WARNING:tensorflow:From c:\\users\\bkaushal\\aiva\\stockprediction\\tensordemo\\lib\\site-packages\\tensorflow\\python\\util\\deprecation.py:347: calling DNNRegressor.predict (from tensorflow.contrib.learn.python.learn.estimators.dnn) with outputs=None is deprecated and will be removed after 2017-03-01.\n",
      "Instructions for updating:\n",
      "Please switch to predict_scores, or set `outputs` argument.\n",
      "INFO:tensorflow:Restoring parameters from C:\\Users\\bkaushal\\AppData\\Local\\Temp\\tmp0e4z01tm\\model.ckpt-5000\n"
     ]
    }
   ],
   "source": [
    "y = regressor.predict(\n",
    "    input_fn=get_input_fn(predict_df, num_epochs=1, shuffle=False))"
   ]
  },
  {
   "cell_type": "code",
   "execution_count": 198,
   "metadata": {},
   "outputs": [],
   "source": [
    "predictions = list(y)\n"
   ]
  },
  {
   "cell_type": "code",
   "execution_count": 199,
   "metadata": {},
   "outputs": [
    {
     "data": {
      "text/plain": [
       "[-313.49844]"
      ]
     },
     "execution_count": 199,
     "metadata": {},
     "output_type": "execute_result"
    }
   ],
   "source": [
    "predictions"
   ]
  },
  {
   "cell_type": "code",
   "execution_count": null,
   "metadata": {
    "collapsed": true
   },
   "outputs": [],
   "source": []
  },
  {
   "cell_type": "code",
   "execution_count": null,
   "metadata": {
    "collapsed": true
   },
   "outputs": [],
   "source": []
  }
 ],
 "metadata": {
  "kernelspec": {
   "display_name": "Python 3",
   "language": "python",
   "name": "python3"
  }
 },
 "nbformat": 4,
 "nbformat_minor": 2
}
