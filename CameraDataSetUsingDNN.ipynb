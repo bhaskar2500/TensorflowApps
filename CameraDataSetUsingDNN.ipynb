{
 "cells": [
  {
   "cell_type": "code",
   "execution_count": 147,
   "metadata": {
    "collapsed": true
   },
   "outputs": [],
   "source": [
    "import tensorflow as tf\n",
    "import numpy as np\n",
    "import pandas as pd\n",
    "import itertools"
   ]
  },
  {
   "cell_type": "code",
   "execution_count": 167,
   "metadata": {},
   "outputs": [],
   "source": [
    "df=pd.read_csv(\"Camera.csv\",delimiter=\";\")\n",
    "df.columns = [c.replace(' ', '_') for c in df.columns]\n",
    "df.columns = [c.replace('.', '').replace('.','').replace('(','').replace(')','') for c in df.columns]\n",
    "df=df[df.columns.difference([\"Model\",])]"
   ]
  },
  {
   "cell_type": "code",
   "execution_count": 168,
   "metadata": {},
   "outputs": [],
   "source": [
    "Converted_Df =pd.DataFrame(np.nan_to_num(df[2:].values.astype(float)))"
   ]
  },
  {
   "cell_type": "code",
   "execution_count": 169,
   "metadata": {},
   "outputs": [],
   "source": [
    "Converted_Df.columns=df.columns"
   ]
  },
  {
   "cell_type": "code",
   "execution_count": 170,
   "metadata": {},
   "outputs": [
    {
     "data": {
      "text/plain": [
       "Index(['Dimensions', 'Effective_pixels', 'Low_resolution', 'Macro_focus_range',\n",
       "       'Max_resolution', 'Normal_focus_range', 'Price', 'Release_date',\n",
       "       'Storage_included', 'Weight_inc_batteries', 'Zoom_tele_T',\n",
       "       'Zoom_wide_W'],\n",
       "      dtype='object')"
      ]
     },
     "execution_count": 170,
     "metadata": {},
     "output_type": "execute_result"
    }
   ],
   "source": [
    "train=Converted_Df.sample(frac=0.8,random_state=200)\n",
    "test=Converted_Df.drop(train.index)\n",
    "train.columns"
   ]
  },
  {
   "cell_type": "code",
   "execution_count": 171,
   "metadata": {},
   "outputs": [],
   "source": [
    "FEATURES=Converted_Df.columns.values.tolist()"
   ]
  },
  {
   "cell_type": "code",
   "execution_count": 172,
   "metadata": {},
   "outputs": [
    {
     "data": {
      "text/plain": [
       "[_NumericColumn(key='Dimensions', shape=(1,), default_value=None, dtype=tf.float32, normalizer_fn=None),\n",
       " _NumericColumn(key='Effective_pixels', shape=(1,), default_value=None, dtype=tf.float32, normalizer_fn=None),\n",
       " _NumericColumn(key='Low_resolution', shape=(1,), default_value=None, dtype=tf.float32, normalizer_fn=None),\n",
       " _NumericColumn(key='Macro_focus_range', shape=(1,), default_value=None, dtype=tf.float32, normalizer_fn=None),\n",
       " _NumericColumn(key='Max_resolution', shape=(1,), default_value=None, dtype=tf.float32, normalizer_fn=None),\n",
       " _NumericColumn(key='Normal_focus_range', shape=(1,), default_value=None, dtype=tf.float32, normalizer_fn=None),\n",
       " _NumericColumn(key='Price', shape=(1,), default_value=None, dtype=tf.float32, normalizer_fn=None),\n",
       " _NumericColumn(key='Release_date', shape=(1,), default_value=None, dtype=tf.float32, normalizer_fn=None),\n",
       " _NumericColumn(key='Storage_included', shape=(1,), default_value=None, dtype=tf.float32, normalizer_fn=None),\n",
       " _NumericColumn(key='Weight_inc_batteries', shape=(1,), default_value=None, dtype=tf.float32, normalizer_fn=None),\n",
       " _NumericColumn(key='Zoom_tele_T', shape=(1,), default_value=None, dtype=tf.float32, normalizer_fn=None),\n",
       " _NumericColumn(key='Zoom_wide_W', shape=(1,), default_value=None, dtype=tf.float32, normalizer_fn=None)]"
      ]
     },
     "execution_count": 172,
     "metadata": {},
     "output_type": "execute_result"
    }
   ],
   "source": [
    "feature_cols = [tf.feature_column.numeric_column(k,dtype=tf.float32)  for k in FEATURES]\n",
    "feature_cols"
   ]
  },
  {
   "cell_type": "code",
   "execution_count": 192,
   "metadata": {},
   "outputs": [
    {
     "name": "stdout",
     "output_type": "stream",
     "text": [
      "INFO:tensorflow:Using default config.\n",
      "WARNING:tensorflow:Using temporary folder as model directory: C:\\Users\\bkaushal\\AppData\\Local\\Temp\\tmp0e4z01tm\n",
      "INFO:tensorflow:Using config: {'_session_config': None, '_keep_checkpoint_every_n_hours': 10000, '_evaluation_master': '', '_save_summary_steps': 100, '_keep_checkpoint_max': 5, '_num_ps_replicas': 0, '_cluster_spec': <tensorflow.python.training.server_lib.ClusterSpec object at 0x0000000011901080>, '_master': '', '_tf_random_seed': None, '_environment': 'local', '_save_checkpoints_steps': None, '_task_type': None, '_tf_config': gpu_options {\n",
      "  per_process_gpu_memory_fraction: 1\n",
      "}\n",
      ", '_model_dir': 'C:\\\\Users\\\\bkaushal\\\\AppData\\\\Local\\\\Temp\\\\tmp0e4z01tm', '_task_id': 0, '_save_checkpoints_secs': 600, '_num_worker_replicas': 0, '_is_chief': True}\n"
     ]
    }
   ],
   "source": [
    "regressor = tf.contrib.learn.DNNRegressor(hidden_units=[80, 80],feature_columns=feature_cols)"
   ]
  },
  {
   "cell_type": "code",
   "execution_count": 193,
   "metadata": {
    "collapsed": true
   },
   "outputs": [],
   "source": [
    "def get_input_fn(train, num_epochs=None, shuffle=True):\n",
    "  return tf.estimator.inputs.pandas_input_fn(\n",
    "      x=train,\n",
    "      y = train.Price,\n",
    "      num_epochs=num_epochs,\n",
    "      shuffle=shuffle)"
   ]
  },
  {
   "cell_type": "code",
   "execution_count": 194,
   "metadata": {},
   "outputs": [
    {
     "name": "stdout",
     "output_type": "stream",
     "text": [
      "WARNING:tensorflow:From c:\\users\\bkaushal\\aiva\\stockprediction\\tensordemo\\lib\\site-packages\\tensorflow\\contrib\\learn\\python\\learn\\estimators\\head.py:625: scalar_summary (from tensorflow.python.ops.logging_ops) is deprecated and will be removed after 2016-11-30.\n",
      "Instructions for updating:\n",
      "Please switch to tf.summary.scalar. Note that tf.summary.scalar uses the node name instead of the tag. This means that TensorFlow will automatically de-duplicate summary names based on the scope they are created in. Also, passing a tensor or list of tags to a scalar summary op is no longer supported.\n",
      "INFO:tensorflow:Create CheckpointSaverHook.\n",
      "INFO:tensorflow:Saving checkpoints for 1 into C:\\Users\\bkaushal\\AppData\\Local\\Temp\\tmp0e4z01tm\\model.ckpt.\n",
      "INFO:tensorflow:loss = 363570.0, step = 1\n",
      "INFO:tensorflow:global_step/sec: 314.591\n",
      "INFO:tensorflow:loss = 3148.51, step = 101 (0.321 sec)\n",
      "INFO:tensorflow:global_step/sec: 277.889\n",
      "INFO:tensorflow:loss = 751.068, step = 201 (0.360 sec)\n",
      "INFO:tensorflow:global_step/sec: 265.358\n",
      "INFO:tensorflow:loss = 303.609, step = 301 (0.376 sec)\n",
      "INFO:tensorflow:global_step/sec: 263.263\n",
      "INFO:tensorflow:loss = 786.538, step = 401 (0.380 sec)\n",
      "INFO:tensorflow:global_step/sec: 277.889\n",
      "INFO:tensorflow:loss = 197.788, step = 501 (0.359 sec)\n",
      "INFO:tensorflow:global_step/sec: 257.835\n",
      "INFO:tensorflow:loss = 287.83, step = 601 (0.388 sec)\n",
      "INFO:tensorflow:global_step/sec: 257.835\n",
      "INFO:tensorflow:loss = 124.319, step = 701 (0.388 sec)\n",
      "INFO:tensorflow:global_step/sec: 247.624\n",
      "INFO:tensorflow:loss = 545.888, step = 801 (0.405 sec)\n",
      "INFO:tensorflow:global_step/sec: 253.266\n",
      "INFO:tensorflow:loss = 293.626, step = 901 (0.397 sec)\n",
      "INFO:tensorflow:global_step/sec: 226.335\n",
      "INFO:tensorflow:loss = 128.475, step = 1001 (0.440 sec)\n",
      "INFO:tensorflow:global_step/sec: 211.501\n",
      "INFO:tensorflow:loss = 138.134, step = 1101 (0.473 sec)\n",
      "INFO:tensorflow:global_step/sec: 210.611\n",
      "INFO:tensorflow:loss = 133.329, step = 1201 (0.477 sec)\n",
      "INFO:tensorflow:global_step/sec: 192.385\n",
      "INFO:tensorflow:loss = 134.15, step = 1301 (0.519 sec)\n",
      "INFO:tensorflow:global_step/sec: 272.589\n",
      "INFO:tensorflow:loss = 88.3649, step = 1401 (0.367 sec)\n",
      "INFO:tensorflow:global_step/sec: 268.204\n",
      "INFO:tensorflow:loss = 162.539, step = 1501 (0.371 sec)\n",
      "INFO:tensorflow:global_step/sec: 266.773\n",
      "INFO:tensorflow:loss = 72.9998, step = 1601 (0.375 sec)\n",
      "INFO:tensorflow:global_step/sec: 266.064\n",
      "INFO:tensorflow:loss = 48.2078, step = 1701 (0.376 sec)\n",
      "INFO:tensorflow:global_step/sec: 270.379\n",
      "INFO:tensorflow:loss = 61.9295, step = 1801 (0.371 sec)\n",
      "INFO:tensorflow:global_step/sec: 266.064\n",
      "INFO:tensorflow:loss = 64.0, step = 1901 (0.376 sec)\n",
      "INFO:tensorflow:global_step/sec: 303.152\n",
      "INFO:tensorflow:loss = 46.5576, step = 2001 (0.331 sec)\n",
      "INFO:tensorflow:global_step/sec: 301.325\n",
      "INFO:tensorflow:loss = 54.5358, step = 2101 (0.330 sec)\n",
      "INFO:tensorflow:global_step/sec: 270.378\n",
      "INFO:tensorflow:loss = 43.7041, step = 2201 (0.370 sec)\n",
      "INFO:tensorflow:global_step/sec: 196.157\n",
      "INFO:tensorflow:loss = 55.8699, step = 2301 (0.514 sec)\n",
      "INFO:tensorflow:global_step/sec: 181.561\n",
      "INFO:tensorflow:loss = 41.8137, step = 2401 (0.549 sec)\n",
      "INFO:tensorflow:global_step/sec: 222.311\n",
      "INFO:tensorflow:loss = 40.5366, step = 2501 (0.450 sec)\n",
      "INFO:tensorflow:global_step/sec: 246.404\n",
      "INFO:tensorflow:loss = 31.7419, step = 2601 (0.415 sec)\n",
      "INFO:tensorflow:global_step/sec: 261.885\n",
      "INFO:tensorflow:loss = 25.8711, step = 2701 (0.372 sec)\n",
      "INFO:tensorflow:global_step/sec: 268.204\n",
      "INFO:tensorflow:loss = 22.2453, step = 2801 (0.372 sec)\n",
      "INFO:tensorflow:global_step/sec: 273.333\n",
      "INFO:tensorflow:loss = 39.4586, step = 2901 (0.366 sec)\n",
      "INFO:tensorflow:global_step/sec: 209.289\n",
      "INFO:tensorflow:loss = 26.019, step = 3001 (0.482 sec)\n",
      "INFO:tensorflow:global_step/sec: 179.928\n",
      "INFO:tensorflow:loss = 36.8326, step = 3101 (0.553 sec)\n",
      "INFO:tensorflow:global_step/sec: 262.572\n",
      "INFO:tensorflow:loss = 44.2072, step = 3201 (0.380 sec)\n",
      "INFO:tensorflow:global_step/sec: 271.848\n",
      "INFO:tensorflow:loss = 25.1788, step = 3301 (0.369 sec)\n",
      "INFO:tensorflow:global_step/sec: 194.63\n",
      "INFO:tensorflow:loss = 35.8451, step = 3401 (0.516 sec)\n",
      "INFO:tensorflow:global_step/sec: 295.976\n",
      "INFO:tensorflow:loss = 25.2947, step = 3501 (0.338 sec)\n",
      "INFO:tensorflow:global_step/sec: 266.773\n",
      "INFO:tensorflow:loss = 21.5167, step = 3601 (0.373 sec)\n",
      "INFO:tensorflow:global_step/sec: 232.111\n",
      "INFO:tensorflow:loss = 26.4813, step = 3701 (0.430 sec)\n",
      "INFO:tensorflow:global_step/sec: 256.513\n",
      "INFO:tensorflow:loss = 23.5479, step = 3801 (0.392 sec)\n",
      "INFO:tensorflow:global_step/sec: 213.761\n",
      "INFO:tensorflow:loss = 30.3827, step = 3901 (0.475 sec)\n",
      "INFO:tensorflow:global_step/sec: 174.895\n",
      "INFO:tensorflow:loss = 40.176, step = 4001 (0.568 sec)\n",
      "INFO:tensorflow:global_step/sec: 211.501\n",
      "INFO:tensorflow:loss = 27.9372, step = 4101 (0.470 sec)\n",
      "INFO:tensorflow:global_step/sec: 288.3\n",
      "INFO:tensorflow:loss = 36.1197, step = 4201 (0.348 sec)\n",
      "INFO:tensorflow:global_step/sec: 253.266\n",
      "INFO:tensorflow:loss = 30.0521, step = 4301 (0.392 sec)\n",
      "INFO:tensorflow:global_step/sec: 267.487\n",
      "INFO:tensorflow:loss = 23.0514, step = 4401 (0.374 sec)\n",
      "INFO:tensorflow:global_step/sec: 222.311\n",
      "INFO:tensorflow:loss = 24.3631, step = 4501 (0.453 sec)\n",
      "INFO:tensorflow:global_step/sec: 212.399\n",
      "INFO:tensorflow:loss = 34.909, step = 4601 (0.471 sec)\n",
      "INFO:tensorflow:global_step/sec: 233.193\n",
      "INFO:tensorflow:loss = 19.1113, step = 4701 (0.427 sec)\n",
      "INFO:tensorflow:global_step/sec: 152.037\n",
      "INFO:tensorflow:loss = 26.2497, step = 4801 (0.664 sec)\n",
      "INFO:tensorflow:global_step/sec: 207.552\n",
      "INFO:tensorflow:loss = 52.5232, step = 4901 (0.477 sec)\n",
      "INFO:tensorflow:Saving checkpoints for 5000 into C:\\Users\\bkaushal\\AppData\\Local\\Temp\\tmp0e4z01tm\\model.ckpt.\n",
      "INFO:tensorflow:Loss for final step: 25.9653.\n"
     ]
    },
    {
     "data": {
      "text/plain": [
       "DNNRegressor(params={'optimizer': None, 'head': <tensorflow.contrib.learn.python.learn.estimators.head._RegressionHead object at 0x0000000011545828>, 'feature_columns': (_NumericColumn(key='Dimensions', shape=(1,), default_value=None, dtype=tf.float32, normalizer_fn=None), _NumericColumn(key='Effective_pixels', shape=(1,), default_value=None, dtype=tf.float32, normalizer_fn=None), _NumericColumn(key='Low_resolution', shape=(1,), default_value=None, dtype=tf.float32, normalizer_fn=None), _NumericColumn(key='Macro_focus_range', shape=(1,), default_value=None, dtype=tf.float32, normalizer_fn=None), _NumericColumn(key='Max_resolution', shape=(1,), default_value=None, dtype=tf.float32, normalizer_fn=None), _NumericColumn(key='Normal_focus_range', shape=(1,), default_value=None, dtype=tf.float32, normalizer_fn=None), _NumericColumn(key='Price', shape=(1,), default_value=None, dtype=tf.float32, normalizer_fn=None), _NumericColumn(key='Release_date', shape=(1,), default_value=None, dtype=tf.float32, normalizer_fn=None), _NumericColumn(key='Storage_included', shape=(1,), default_value=None, dtype=tf.float32, normalizer_fn=None), _NumericColumn(key='Weight_inc_batteries', shape=(1,), default_value=None, dtype=tf.float32, normalizer_fn=None), _NumericColumn(key='Zoom_tele_T', shape=(1,), default_value=None, dtype=tf.float32, normalizer_fn=None), _NumericColumn(key='Zoom_wide_W', shape=(1,), default_value=None, dtype=tf.float32, normalizer_fn=None)), 'embedding_lr_multipliers': None, 'input_layer_min_slice_size': None, 'gradient_clip_norm': None, 'hidden_units': [80, 80], 'activation_fn': <function relu at 0x000000000719E400>, 'dropout': None})"
      ]
     },
     "execution_count": 194,
     "metadata": {},
     "output_type": "execute_result"
    }
   ],
   "source": [
    "regressor.fit(input_fn=get_input_fn(train),steps=5000,)\n",
    "\n"
   ]
  },
  {
   "cell_type": "code",
   "execution_count": 195,
   "metadata": {},
   "outputs": [
    {
     "name": "stdout",
     "output_type": "stream",
     "text": [
      "WARNING:tensorflow:From c:\\users\\bkaushal\\aiva\\stockprediction\\tensordemo\\lib\\site-packages\\tensorflow\\contrib\\learn\\python\\learn\\estimators\\head.py:625: scalar_summary (from tensorflow.python.ops.logging_ops) is deprecated and will be removed after 2016-11-30.\n",
      "Instructions for updating:\n",
      "Please switch to tf.summary.scalar. Note that tf.summary.scalar uses the node name instead of the tag. This means that TensorFlow will automatically de-duplicate summary names based on the scope they are created in. Also, passing a tensor or list of tags to a scalar summary op is no longer supported.\n",
      "INFO:tensorflow:Starting evaluation at 2017-08-23-13:23:19\n",
      "INFO:tensorflow:Restoring parameters from C:\\Users\\bkaushal\\AppData\\Local\\Temp\\tmp0e4z01tm\\model.ckpt-5000\n",
      "INFO:tensorflow:Finished evaluation at 2017-08-23-13:23:19\n",
      "INFO:tensorflow:Saving dict for global step 5000: global_step = 5000, loss = 238.708\n"
     ]
    }
   ],
   "source": [
    "ev = regressor.evaluate(\n",
    "    input_fn=get_input_fn(test, num_epochs=2, shuffle=False))"
   ]
  },
  {
   "cell_type": "code",
   "execution_count": 196,
   "metadata": {},
   "outputs": [
    {
     "name": "stdout",
     "output_type": "stream",
     "text": [
      "Loss: 238.707855\n"
     ]
    }
   ],
   "source": [
    "loss_score = ev[\"loss\"]\n",
    "print(\"Loss: {0:f}\".format(loss_score))\n",
    "\n",
    "predict_df=pd.DataFrame([2002,1600.0,800.0,1.0,38.0,38.0,40.0,20.0,8.0,180.0,86.0,0.0]).T\n",
    "predict_df.columns=df.columns\n"
   ]
  },
  {
   "cell_type": "code",
   "execution_count": 197,
   "metadata": {},
   "outputs": [
    {
     "name": "stdout",
     "output_type": "stream",
     "text": [
      "WARNING:tensorflow:From c:\\users\\bkaushal\\aiva\\stockprediction\\tensordemo\\lib\\site-packages\\tensorflow\\python\\util\\deprecation.py:347: calling DNNRegressor.predict (from tensorflow.contrib.learn.python.learn.estimators.dnn) with outputs=None is deprecated and will be removed after 2017-03-01.\n",
      "Instructions for updating:\n",
      "Please switch to predict_scores, or set `outputs` argument.\n",
      "INFO:tensorflow:Restoring parameters from C:\\Users\\bkaushal\\AppData\\Local\\Temp\\tmp0e4z01tm\\model.ckpt-5000\n"
     ]
    }
   ],
   "source": [
    "y = regressor.predict(\n",
    "    input_fn=get_input_fn(predict_df, num_epochs=1, shuffle=False))"
   ]
  },
  {
   "cell_type": "code",
   "execution_count": 198,
   "metadata": {},
   "outputs": [],
   "source": [
    "predictions = list(y)\n"
   ]
  },
  {
   "cell_type": "code",
   "execution_count": 199,
   "metadata": {},
   "outputs": [
    {
     "data": {
      "text/plain": [
       "[-313.49844]"
      ]
     },
     "execution_count": 199,
     "metadata": {},
     "output_type": "execute_result"
    }
   ],
   "source": [
    "predictions"
   ]
  },
  {
   "cell_type": "code",
   "execution_count": null,
   "metadata": {
    "collapsed": true
   },
   "outputs": [],
   "source": []
  },
  {
   "cell_type": "code",
   "execution_count": null,
   "metadata": {
    "collapsed": true
   },
   "outputs": [],
   "source": []
  }
 ],
 "metadata": {
  "kernelspec": {
   "display_name": "Python 3",
   "language": "python",
   "name": "python3"
  }
 },
 "nbformat": 4,
 "nbformat_minor": 2
}
